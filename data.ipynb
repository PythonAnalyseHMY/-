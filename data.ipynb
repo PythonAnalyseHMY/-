{
 "cells": [
  {
   "cell_type": "code",
   "execution_count": 72,
   "id": "3494d7f1",
   "metadata": {},
   "outputs": [],
   "source": [
    "import pandas as pd\n",
    "import numpy as np"
   ]
  },
  {
   "cell_type": "code",
   "execution_count": 73,
   "id": "a8755213",
   "metadata": {},
   "outputs": [
    {
     "data": {
      "application/vnd.microsoft.datawrangler.viewer.v0+json": {
       "columns": [
        {
         "name": "index",
         "rawType": "int64",
         "type": "integer"
        },
        {
         "name": "invoice_no",
         "rawType": "object",
         "type": "string"
        },
        {
         "name": "customer_id",
         "rawType": "object",
         "type": "string"
        },
        {
         "name": "gender",
         "rawType": "object",
         "type": "string"
        },
        {
         "name": "age",
         "rawType": "int64",
         "type": "integer"
        },
        {
         "name": "category",
         "rawType": "object",
         "type": "string"
        },
        {
         "name": "quantity",
         "rawType": "int64",
         "type": "integer"
        },
        {
         "name": "price",
         "rawType": "float64",
         "type": "float"
        },
        {
         "name": "payment_method",
         "rawType": "object",
         "type": "string"
        },
        {
         "name": "invoice_date",
         "rawType": "object",
         "type": "string"
        }
       ],
       "ref": "21dcc849-a0ef-42e5-9621-3c0de94e410c",
       "rows": [
        [
         "0",
         "I138884",
         "C241288",
         "Female",
         "28",
         "Clothing",
         "5",
         "1500.4",
         "Alipay",
         "5/8/2022"
        ],
        [
         "1",
         "I317333",
         "C111565",
         "Male",
         "21",
         "Shoes",
         "3",
         "1800.51",
         "WeChat Pay",
         "12/12/2021"
        ],
        [
         "2",
         "I127801",
         "C266599",
         "Male",
         "20",
         "Clothing",
         "1",
         "300.08",
         "Card",
         "9/11/2021"
        ],
        [
         "3",
         "I173702",
         "C988172",
         "Female",
         "66",
         "Shoes",
         "5",
         "3000.85",
         "Alipay",
         "16/05/2021"
        ],
        [
         "4",
         "I337046",
         "C189076",
         "Female",
         "53",
         "Books",
         "4",
         "60.6",
         "Card",
         "24/10/2021"
        ]
       ],
       "shape": {
        "columns": 9,
        "rows": 5
       }
      },
      "text/html": [
       "<div>\n",
       "<style scoped>\n",
       "    .dataframe tbody tr th:only-of-type {\n",
       "        vertical-align: middle;\n",
       "    }\n",
       "\n",
       "    .dataframe tbody tr th {\n",
       "        vertical-align: top;\n",
       "    }\n",
       "\n",
       "    .dataframe thead th {\n",
       "        text-align: right;\n",
       "    }\n",
       "</style>\n",
       "<table border=\"1\" class=\"dataframe\">\n",
       "  <thead>\n",
       "    <tr style=\"text-align: right;\">\n",
       "      <th></th>\n",
       "      <th>invoice_no</th>\n",
       "      <th>customer_id</th>\n",
       "      <th>gender</th>\n",
       "      <th>age</th>\n",
       "      <th>category</th>\n",
       "      <th>quantity</th>\n",
       "      <th>price</th>\n",
       "      <th>payment_method</th>\n",
       "      <th>invoice_date</th>\n",
       "    </tr>\n",
       "  </thead>\n",
       "  <tbody>\n",
       "    <tr>\n",
       "      <th>0</th>\n",
       "      <td>I138884</td>\n",
       "      <td>C241288</td>\n",
       "      <td>Female</td>\n",
       "      <td>28</td>\n",
       "      <td>Clothing</td>\n",
       "      <td>5</td>\n",
       "      <td>1500.40</td>\n",
       "      <td>Alipay</td>\n",
       "      <td>5/8/2022</td>\n",
       "    </tr>\n",
       "    <tr>\n",
       "      <th>1</th>\n",
       "      <td>I317333</td>\n",
       "      <td>C111565</td>\n",
       "      <td>Male</td>\n",
       "      <td>21</td>\n",
       "      <td>Shoes</td>\n",
       "      <td>3</td>\n",
       "      <td>1800.51</td>\n",
       "      <td>WeChat Pay</td>\n",
       "      <td>12/12/2021</td>\n",
       "    </tr>\n",
       "    <tr>\n",
       "      <th>2</th>\n",
       "      <td>I127801</td>\n",
       "      <td>C266599</td>\n",
       "      <td>Male</td>\n",
       "      <td>20</td>\n",
       "      <td>Clothing</td>\n",
       "      <td>1</td>\n",
       "      <td>300.08</td>\n",
       "      <td>Card</td>\n",
       "      <td>9/11/2021</td>\n",
       "    </tr>\n",
       "    <tr>\n",
       "      <th>3</th>\n",
       "      <td>I173702</td>\n",
       "      <td>C988172</td>\n",
       "      <td>Female</td>\n",
       "      <td>66</td>\n",
       "      <td>Shoes</td>\n",
       "      <td>5</td>\n",
       "      <td>3000.85</td>\n",
       "      <td>Alipay</td>\n",
       "      <td>16/05/2021</td>\n",
       "    </tr>\n",
       "    <tr>\n",
       "      <th>4</th>\n",
       "      <td>I337046</td>\n",
       "      <td>C189076</td>\n",
       "      <td>Female</td>\n",
       "      <td>53</td>\n",
       "      <td>Books</td>\n",
       "      <td>4</td>\n",
       "      <td>60.60</td>\n",
       "      <td>Card</td>\n",
       "      <td>24/10/2021</td>\n",
       "    </tr>\n",
       "  </tbody>\n",
       "</table>\n",
       "</div>"
      ],
      "text/plain": [
       "  invoice_no customer_id  gender  age  category  quantity    price  \\\n",
       "0    I138884     C241288  Female   28  Clothing         5  1500.40   \n",
       "1    I317333     C111565    Male   21     Shoes         3  1800.51   \n",
       "2    I127801     C266599    Male   20  Clothing         1   300.08   \n",
       "3    I173702     C988172  Female   66     Shoes         5  3000.85   \n",
       "4    I337046     C189076  Female   53     Books         4    60.60   \n",
       "\n",
       "  payment_method invoice_date  \n",
       "0         Alipay     5/8/2022  \n",
       "1     WeChat Pay   12/12/2021  \n",
       "2           Card    9/11/2021  \n",
       "3         Alipay   16/05/2021  \n",
       "4           Card   24/10/2021  "
      ]
     },
     "execution_count": 73,
     "metadata": {},
     "output_type": "execute_result"
    }
   ],
   "source": [
    "data = pd.read_csv('./customer_shopping_data.csv')\n",
    "data.head()"
   ]
  },
  {
   "cell_type": "code",
   "execution_count": 74,
   "id": "61e29102",
   "metadata": {},
   "outputs": [
    {
     "data": {
      "text/plain": [
       "['Alipay', 'WeChat Pay', 'Card']"
      ]
     },
     "execution_count": 74,
     "metadata": {},
     "output_type": "execute_result"
    }
   ],
   "source": [
    "unique_values = data['payment_method'].unique().tolist()\n",
    "unique_values"
   ]
  },
  {
   "cell_type": "code",
   "execution_count": 75,
   "id": "f6c5dbf9",
   "metadata": {},
   "outputs": [
    {
     "data": {
      "application/vnd.microsoft.datawrangler.viewer.v0+json": {
       "columns": [
        {
         "name": "index",
         "rawType": "int64",
         "type": "integer"
        },
        {
         "name": "invoice_no",
         "rawType": "object",
         "type": "string"
        },
        {
         "name": "customer_id",
         "rawType": "object",
         "type": "string"
        },
        {
         "name": "gender",
         "rawType": "object",
         "type": "string"
        },
        {
         "name": "age",
         "rawType": "int64",
         "type": "integer"
        },
        {
         "name": "category",
         "rawType": "object",
         "type": "string"
        },
        {
         "name": "quantity",
         "rawType": "int64",
         "type": "integer"
        },
        {
         "name": "price",
         "rawType": "float64",
         "type": "float"
        },
        {
         "name": "payment_method",
         "rawType": "object",
         "type": "string"
        },
        {
         "name": "invoice_date",
         "rawType": "datetime64[ns]",
         "type": "datetime"
        },
        {
         "name": "invoice_year",
         "rawType": "int32",
         "type": "integer"
        },
        {
         "name": "invoice_month",
         "rawType": "int32",
         "type": "integer"
        }
       ],
       "ref": "cf8b6c65-7b99-492d-8a61-c93200f0f661",
       "rows": [
        [
         "0",
         "I138884",
         "C241288",
         "女",
         "28",
         "Clothing",
         "5",
         "1500.4",
         "支付宝",
         "2022-08-05 00:00:00",
         "2022",
         "8"
        ],
        [
         "1",
         "I317333",
         "C111565",
         "男",
         "21",
         "Shoes",
         "3",
         "1800.51",
         "微信支付",
         "2021-12-12 00:00:00",
         "2021",
         "12"
        ],
        [
         "2",
         "I127801",
         "C266599",
         "男",
         "20",
         "Clothing",
         "1",
         "300.08",
         "银行卡",
         "2021-11-09 00:00:00",
         "2021",
         "11"
        ],
        [
         "3",
         "I173702",
         "C988172",
         "女",
         "66",
         "Shoes",
         "5",
         "3000.85",
         "支付宝",
         "2021-05-16 00:00:00",
         "2021",
         "5"
        ],
        [
         "4",
         "I337046",
         "C189076",
         "女",
         "53",
         "Books",
         "4",
         "60.6",
         "银行卡",
         "2021-10-24 00:00:00",
         "2021",
         "10"
        ]
       ],
       "shape": {
        "columns": 11,
        "rows": 5
       }
      },
      "text/html": [
       "<div>\n",
       "<style scoped>\n",
       "    .dataframe tbody tr th:only-of-type {\n",
       "        vertical-align: middle;\n",
       "    }\n",
       "\n",
       "    .dataframe tbody tr th {\n",
       "        vertical-align: top;\n",
       "    }\n",
       "\n",
       "    .dataframe thead th {\n",
       "        text-align: right;\n",
       "    }\n",
       "</style>\n",
       "<table border=\"1\" class=\"dataframe\">\n",
       "  <thead>\n",
       "    <tr style=\"text-align: right;\">\n",
       "      <th></th>\n",
       "      <th>invoice_no</th>\n",
       "      <th>customer_id</th>\n",
       "      <th>gender</th>\n",
       "      <th>age</th>\n",
       "      <th>category</th>\n",
       "      <th>quantity</th>\n",
       "      <th>price</th>\n",
       "      <th>payment_method</th>\n",
       "      <th>invoice_date</th>\n",
       "      <th>invoice_year</th>\n",
       "      <th>invoice_month</th>\n",
       "    </tr>\n",
       "  </thead>\n",
       "  <tbody>\n",
       "    <tr>\n",
       "      <th>0</th>\n",
       "      <td>I138884</td>\n",
       "      <td>C241288</td>\n",
       "      <td>女</td>\n",
       "      <td>28</td>\n",
       "      <td>Clothing</td>\n",
       "      <td>5</td>\n",
       "      <td>1500.40</td>\n",
       "      <td>支付宝</td>\n",
       "      <td>2022-08-05</td>\n",
       "      <td>2022</td>\n",
       "      <td>8</td>\n",
       "    </tr>\n",
       "    <tr>\n",
       "      <th>1</th>\n",
       "      <td>I317333</td>\n",
       "      <td>C111565</td>\n",
       "      <td>男</td>\n",
       "      <td>21</td>\n",
       "      <td>Shoes</td>\n",
       "      <td>3</td>\n",
       "      <td>1800.51</td>\n",
       "      <td>微信支付</td>\n",
       "      <td>2021-12-12</td>\n",
       "      <td>2021</td>\n",
       "      <td>12</td>\n",
       "    </tr>\n",
       "    <tr>\n",
       "      <th>2</th>\n",
       "      <td>I127801</td>\n",
       "      <td>C266599</td>\n",
       "      <td>男</td>\n",
       "      <td>20</td>\n",
       "      <td>Clothing</td>\n",
       "      <td>1</td>\n",
       "      <td>300.08</td>\n",
       "      <td>银行卡</td>\n",
       "      <td>2021-11-09</td>\n",
       "      <td>2021</td>\n",
       "      <td>11</td>\n",
       "    </tr>\n",
       "    <tr>\n",
       "      <th>3</th>\n",
       "      <td>I173702</td>\n",
       "      <td>C988172</td>\n",
       "      <td>女</td>\n",
       "      <td>66</td>\n",
       "      <td>Shoes</td>\n",
       "      <td>5</td>\n",
       "      <td>3000.85</td>\n",
       "      <td>支付宝</td>\n",
       "      <td>2021-05-16</td>\n",
       "      <td>2021</td>\n",
       "      <td>5</td>\n",
       "    </tr>\n",
       "    <tr>\n",
       "      <th>4</th>\n",
       "      <td>I337046</td>\n",
       "      <td>C189076</td>\n",
       "      <td>女</td>\n",
       "      <td>53</td>\n",
       "      <td>Books</td>\n",
       "      <td>4</td>\n",
       "      <td>60.60</td>\n",
       "      <td>银行卡</td>\n",
       "      <td>2021-10-24</td>\n",
       "      <td>2021</td>\n",
       "      <td>10</td>\n",
       "    </tr>\n",
       "  </tbody>\n",
       "</table>\n",
       "</div>"
      ],
      "text/plain": [
       "  invoice_no customer_id gender  age  category  quantity    price  \\\n",
       "0    I138884     C241288      女   28  Clothing         5  1500.40   \n",
       "1    I317333     C111565      男   21     Shoes         3  1800.51   \n",
       "2    I127801     C266599      男   20  Clothing         1   300.08   \n",
       "3    I173702     C988172      女   66     Shoes         5  3000.85   \n",
       "4    I337046     C189076      女   53     Books         4    60.60   \n",
       "\n",
       "  payment_method invoice_date  invoice_year  invoice_month  \n",
       "0            支付宝   2022-08-05          2022              8  \n",
       "1           微信支付   2021-12-12          2021             12  \n",
       "2            银行卡   2021-11-09          2021             11  \n",
       "3            支付宝   2021-05-16          2021              5  \n",
       "4            银行卡   2021-10-24          2021             10  "
      ]
     },
     "execution_count": 75,
     "metadata": {},
     "output_type": "execute_result"
    }
   ],
   "source": [
    "# 明确日期格式为：日/月/年\n",
    "data['invoice_date'] = pd.to_datetime(data['invoice_date'], format = '%d/%m/%Y')\n",
    "\n",
    "# 提取年列和月列\n",
    "data['invoice_year'] = data['invoice_date'].dt.year\n",
    "data['invoice_month'] = data['invoice_date'].dt.month\n",
    "\n",
    "# 创建映射字典\n",
    "gender_mapping = {\n",
    "    'Female': '女',\n",
    "    'Male': '男'\n",
    "}\n",
    "\n",
    "payment_mapping = {\n",
    "    'Alipay': '支付宝',\n",
    "    'WeChat Pay': '微信支付',\n",
    "    'Card': '银行卡'\n",
    "}\n",
    "\n",
    "# 使用映射字典进行替换\n",
    "data['gender'] = data['gender'].map(gender_mapping)\n",
    "data['payment_method'] = data['payment_method'].map(payment_mapping)\n",
    "\n",
    "data.head()"
   ]
  },
  {
   "cell_type": "code",
   "execution_count": 76,
   "id": "727e08c0",
   "metadata": {},
   "outputs": [
    {
     "name": "stdout",
     "output_type": "stream",
     "text": [
      "<class 'pandas.core.frame.DataFrame'>\n",
      "RangeIndex: 99457 entries, 0 to 99456\n",
      "Data columns (total 11 columns):\n",
      " #   Column          Non-Null Count  Dtype         \n",
      "---  ------          --------------  -----         \n",
      " 0   invoice_no      99457 non-null  object        \n",
      " 1   customer_id     99457 non-null  object        \n",
      " 2   gender          99457 non-null  object        \n",
      " 3   age             99457 non-null  int64         \n",
      " 4   category        99457 non-null  object        \n",
      " 5   quantity        99457 non-null  int64         \n",
      " 6   price           99457 non-null  float64       \n",
      " 7   payment_method  99457 non-null  object        \n",
      " 8   invoice_date    99457 non-null  datetime64[ns]\n",
      " 9   invoice_year    99457 non-null  int32         \n",
      " 10  invoice_month   99457 non-null  int32         \n",
      "dtypes: datetime64[ns](1), float64(1), int32(2), int64(2), object(5)\n",
      "memory usage: 7.6+ MB\n"
     ]
    },
    {
     "data": {
      "text/plain": [
       "(99457, 11)"
      ]
     },
     "execution_count": 76,
     "metadata": {},
     "output_type": "execute_result"
    }
   ],
   "source": [
    "data.info()\n",
    "data.shape"
   ]
  },
  {
   "cell_type": "code",
   "execution_count": 77,
   "id": "53a3a5f1",
   "metadata": {},
   "outputs": [
    {
     "data": {
      "application/vnd.microsoft.datawrangler.viewer.v0+json": {
       "columns": [
        {
         "name": "index",
         "rawType": "object",
         "type": "string"
        },
        {
         "name": "age",
         "rawType": "float64",
         "type": "float"
        },
        {
         "name": "quantity",
         "rawType": "float64",
         "type": "float"
        },
        {
         "name": "price",
         "rawType": "float64",
         "type": "float"
        },
        {
         "name": "invoice_date",
         "rawType": "object",
         "type": "unknown"
        },
        {
         "name": "invoice_year",
         "rawType": "float64",
         "type": "float"
        },
        {
         "name": "invoice_month",
         "rawType": "float64",
         "type": "float"
        },
        {
         "name": "revenue",
         "rawType": "float64",
         "type": "float"
        }
       ],
       "ref": "42d11baa-c3e3-4bc3-9964-e75c0ddd0b8b",
       "rows": [
        [
         "count",
         "99457.0",
         "99457.0",
         "99457.0",
         "99457",
         "99457.0",
         "99457.0",
         "99457.0"
        ],
        [
         "mean",
         "43.42708909377922",
         "3.003428617392441",
         "689.2563209226097",
         "2022-02-04 02:46:59.783424",
         "2021.6294076837225",
         "6.113898468684959",
         "2528.78926822647"
        ],
        [
         "min",
         "18.0",
         "1.0",
         "5.23",
         "2021-01-01 00:00:00",
         "2021.0",
         "1.0",
         "5.23"
        ],
        [
         "25%",
         "30.0",
         "2.0",
         "45.45",
         "2021-07-19 00:00:00",
         "2021.0",
         "3.0",
         "136.35"
        ],
        [
         "50%",
         "43.0",
         "3.0",
         "203.3",
         "2022-02-05 00:00:00",
         "2022.0",
         "6.0",
         "600.17"
        ],
        [
         "75%",
         "56.0",
         "4.0",
         "1200.32",
         "2022-08-22 00:00:00",
         "2022.0",
         "9.0",
         "2700.72"
        ],
        [
         "max",
         "69.0",
         "5.0",
         "5250.0",
         "2023-03-08 00:00:00",
         "2023.0",
         "12.0",
         "26250.0"
        ],
        [
         "std",
         "14.990053791852299",
         "1.413025134305319",
         "941.1845672157425",
         null,
         "0.6361355835050545",
         "3.5695112909928937",
         "4222.475781045694"
        ]
       ],
       "shape": {
        "columns": 7,
        "rows": 8
       }
      },
      "text/html": [
       "<div>\n",
       "<style scoped>\n",
       "    .dataframe tbody tr th:only-of-type {\n",
       "        vertical-align: middle;\n",
       "    }\n",
       "\n",
       "    .dataframe tbody tr th {\n",
       "        vertical-align: top;\n",
       "    }\n",
       "\n",
       "    .dataframe thead th {\n",
       "        text-align: right;\n",
       "    }\n",
       "</style>\n",
       "<table border=\"1\" class=\"dataframe\">\n",
       "  <thead>\n",
       "    <tr style=\"text-align: right;\">\n",
       "      <th></th>\n",
       "      <th>age</th>\n",
       "      <th>quantity</th>\n",
       "      <th>price</th>\n",
       "      <th>invoice_date</th>\n",
       "      <th>invoice_year</th>\n",
       "      <th>invoice_month</th>\n",
       "      <th>revenue</th>\n",
       "    </tr>\n",
       "  </thead>\n",
       "  <tbody>\n",
       "    <tr>\n",
       "      <th>count</th>\n",
       "      <td>99457.000000</td>\n",
       "      <td>99457.000000</td>\n",
       "      <td>99457.000000</td>\n",
       "      <td>99457</td>\n",
       "      <td>99457.000000</td>\n",
       "      <td>99457.000000</td>\n",
       "      <td>99457.000000</td>\n",
       "    </tr>\n",
       "    <tr>\n",
       "      <th>mean</th>\n",
       "      <td>43.427089</td>\n",
       "      <td>3.003429</td>\n",
       "      <td>689.256321</td>\n",
       "      <td>2022-02-04 02:46:59.783424</td>\n",
       "      <td>2021.629408</td>\n",
       "      <td>6.113898</td>\n",
       "      <td>2528.789268</td>\n",
       "    </tr>\n",
       "    <tr>\n",
       "      <th>min</th>\n",
       "      <td>18.000000</td>\n",
       "      <td>1.000000</td>\n",
       "      <td>5.230000</td>\n",
       "      <td>2021-01-01 00:00:00</td>\n",
       "      <td>2021.000000</td>\n",
       "      <td>1.000000</td>\n",
       "      <td>5.230000</td>\n",
       "    </tr>\n",
       "    <tr>\n",
       "      <th>25%</th>\n",
       "      <td>30.000000</td>\n",
       "      <td>2.000000</td>\n",
       "      <td>45.450000</td>\n",
       "      <td>2021-07-19 00:00:00</td>\n",
       "      <td>2021.000000</td>\n",
       "      <td>3.000000</td>\n",
       "      <td>136.350000</td>\n",
       "    </tr>\n",
       "    <tr>\n",
       "      <th>50%</th>\n",
       "      <td>43.000000</td>\n",
       "      <td>3.000000</td>\n",
       "      <td>203.300000</td>\n",
       "      <td>2022-02-05 00:00:00</td>\n",
       "      <td>2022.000000</td>\n",
       "      <td>6.000000</td>\n",
       "      <td>600.170000</td>\n",
       "    </tr>\n",
       "    <tr>\n",
       "      <th>75%</th>\n",
       "      <td>56.000000</td>\n",
       "      <td>4.000000</td>\n",
       "      <td>1200.320000</td>\n",
       "      <td>2022-08-22 00:00:00</td>\n",
       "      <td>2022.000000</td>\n",
       "      <td>9.000000</td>\n",
       "      <td>2700.720000</td>\n",
       "    </tr>\n",
       "    <tr>\n",
       "      <th>max</th>\n",
       "      <td>69.000000</td>\n",
       "      <td>5.000000</td>\n",
       "      <td>5250.000000</td>\n",
       "      <td>2023-03-08 00:00:00</td>\n",
       "      <td>2023.000000</td>\n",
       "      <td>12.000000</td>\n",
       "      <td>26250.000000</td>\n",
       "    </tr>\n",
       "    <tr>\n",
       "      <th>std</th>\n",
       "      <td>14.990054</td>\n",
       "      <td>1.413025</td>\n",
       "      <td>941.184567</td>\n",
       "      <td>NaN</td>\n",
       "      <td>0.636136</td>\n",
       "      <td>3.569511</td>\n",
       "      <td>4222.475781</td>\n",
       "    </tr>\n",
       "  </tbody>\n",
       "</table>\n",
       "</div>"
      ],
      "text/plain": [
       "                age      quantity         price                invoice_date  \\\n",
       "count  99457.000000  99457.000000  99457.000000                       99457   \n",
       "mean      43.427089      3.003429    689.256321  2022-02-04 02:46:59.783424   \n",
       "min       18.000000      1.000000      5.230000         2021-01-01 00:00:00   \n",
       "25%       30.000000      2.000000     45.450000         2021-07-19 00:00:00   \n",
       "50%       43.000000      3.000000    203.300000         2022-02-05 00:00:00   \n",
       "75%       56.000000      4.000000   1200.320000         2022-08-22 00:00:00   \n",
       "max       69.000000      5.000000   5250.000000         2023-03-08 00:00:00   \n",
       "std       14.990054      1.413025    941.184567                         NaN   \n",
       "\n",
       "       invoice_year  invoice_month       revenue  \n",
       "count  99457.000000   99457.000000  99457.000000  \n",
       "mean    2021.629408       6.113898   2528.789268  \n",
       "min     2021.000000       1.000000      5.230000  \n",
       "25%     2021.000000       3.000000    136.350000  \n",
       "50%     2022.000000       6.000000    600.170000  \n",
       "75%     2022.000000       9.000000   2700.720000  \n",
       "max     2023.000000      12.000000  26250.000000  \n",
       "std        0.636136       3.569511   4222.475781  "
      ]
     },
     "execution_count": 77,
     "metadata": {},
     "output_type": "execute_result"
    }
   ],
   "source": [
    "data['revenue'] = round(data['quantity'] * data['price'], 2)\n",
    "data.describe()"
   ]
  },
  {
   "cell_type": "code",
   "execution_count": 78,
   "id": "3072f6fe",
   "metadata": {},
   "outputs": [
    {
     "name": "stdout",
     "output_type": "stream",
     "text": [
      "\n",
      "缺失值统计：\n",
      "invoice_no        0\n",
      "customer_id       0\n",
      "gender            0\n",
      "age               0\n",
      "category          0\n",
      "quantity          0\n",
      "price             0\n",
      "payment_method    0\n",
      "invoice_date      0\n",
      "invoice_year      0\n",
      "invoice_month     0\n",
      "revenue           0\n",
      "dtype: int64\n",
      "\n",
      "重复值统计：\n",
      "\n",
      "删除前重复值数量：0\n",
      "\n",
      "删除后重复值数量：0\n"
     ]
    }
   ],
   "source": [
    "# 检查缺失值\n",
    "print('\\n缺失值统计：')\n",
    "print(data.isnull().sum())\n",
    "\n",
    "# 检查重复值\n",
    "print('\\n重复值统计：')\n",
    "duplicate_count = data.duplicated().sum()\n",
    "print(f'\\n删除前重复值数量：{duplicate_count}')\n",
    "data = data.drop_duplicates()\n",
    "print(f'\\n删除后重复值数量：{data.duplicated().sum()}')"
   ]
  },
  {
   "cell_type": "code",
   "execution_count": null,
   "id": "db1634df",
   "metadata": {},
   "outputs": [
    {
     "data": {
      "application/vnd.microsoft.datawrangler.viewer.v0+json": {
       "columns": [
        {
         "name": "index",
         "rawType": "int64",
         "type": "integer"
        },
        {
         "name": "invoice_no",
         "rawType": "object",
         "type": "string"
        },
        {
         "name": "customer_id",
         "rawType": "object",
         "type": "string"
        },
        {
         "name": "gender",
         "rawType": "object",
         "type": "string"
        },
        {
         "name": "age",
         "rawType": "int64",
         "type": "integer"
        },
        {
         "name": "category",
         "rawType": "object",
         "type": "string"
        },
        {
         "name": "quantity",
         "rawType": "int64",
         "type": "integer"
        },
        {
         "name": "price",
         "rawType": "float64",
         "type": "float"
        },
        {
         "name": "payment_method",
         "rawType": "object",
         "type": "string"
        },
        {
         "name": "invoice_date",
         "rawType": "datetime64[ns]",
         "type": "datetime"
        },
        {
         "name": "invoice_year",
         "rawType": "int32",
         "type": "integer"
        },
        {
         "name": "invoice_month",
         "rawType": "int32",
         "type": "integer"
        },
        {
         "name": "revenue",
         "rawType": "float64",
         "type": "float"
        },
        {
         "name": "age_label",
         "rawType": "object",
         "type": "string"
        },
        {
         "name": "revenue_label",
         "rawType": "object",
         "type": "string"
        }
       ],
       "ref": "72170efb-37eb-43a1-a1f9-2fe63bcfbce9",
       "rows": [
        [
         "0",
         "I138884",
         "C241288",
         "女",
         "28",
         "Clothing",
         "5",
         "1500.4",
         "支付宝",
         "2022-08-05 00:00:00",
         "2022",
         "8",
         "7502.0",
         "青年",
         "高消费群体"
        ],
        [
         "1",
         "I317333",
         "C111565",
         "男",
         "21",
         "Shoes",
         "3",
         "1800.51",
         "微信支付",
         "2021-12-12 00:00:00",
         "2021",
         "12",
         "5401.53",
         "青年",
         "高消费群体"
        ],
        [
         "2",
         "I127801",
         "C266599",
         "男",
         "20",
         "Clothing",
         "1",
         "300.08",
         "银行卡",
         "2021-11-09 00:00:00",
         "2021",
         "11",
         "300.08",
         "青年",
         "中等消费群体"
        ],
        [
         "3",
         "I173702",
         "C988172",
         "女",
         "66",
         "Shoes",
         "5",
         "3000.85",
         "支付宝",
         "2021-05-16 00:00:00",
         "2021",
         "5",
         "15004.25",
         "老年",
         "高消费群体"
        ],
        [
         "4",
         "I337046",
         "C189076",
         "女",
         "53",
         "Books",
         "4",
         "60.6",
         "银行卡",
         "2021-10-24 00:00:00",
         "2021",
         "10",
         "242.4",
         "老年",
         "中等消费群体"
        ]
       ],
       "shape": {
        "columns": 14,
        "rows": 5
       }
      },
      "text/html": [
       "<div>\n",
       "<style scoped>\n",
       "    .dataframe tbody tr th:only-of-type {\n",
       "        vertical-align: middle;\n",
       "    }\n",
       "\n",
       "    .dataframe tbody tr th {\n",
       "        vertical-align: top;\n",
       "    }\n",
       "\n",
       "    .dataframe thead th {\n",
       "        text-align: right;\n",
       "    }\n",
       "</style>\n",
       "<table border=\"1\" class=\"dataframe\">\n",
       "  <thead>\n",
       "    <tr style=\"text-align: right;\">\n",
       "      <th></th>\n",
       "      <th>invoice_no</th>\n",
       "      <th>customer_id</th>\n",
       "      <th>gender</th>\n",
       "      <th>age</th>\n",
       "      <th>category</th>\n",
       "      <th>quantity</th>\n",
       "      <th>price</th>\n",
       "      <th>payment_method</th>\n",
       "      <th>invoice_date</th>\n",
       "      <th>invoice_year</th>\n",
       "      <th>invoice_month</th>\n",
       "      <th>revenue</th>\n",
       "      <th>age_label</th>\n",
       "      <th>revenue_label</th>\n",
       "    </tr>\n",
       "  </thead>\n",
       "  <tbody>\n",
       "    <tr>\n",
       "      <th>0</th>\n",
       "      <td>I138884</td>\n",
       "      <td>C241288</td>\n",
       "      <td>女</td>\n",
       "      <td>28</td>\n",
       "      <td>Clothing</td>\n",
       "      <td>5</td>\n",
       "      <td>1500.40</td>\n",
       "      <td>支付宝</td>\n",
       "      <td>2022-08-05</td>\n",
       "      <td>2022</td>\n",
       "      <td>8</td>\n",
       "      <td>7502.00</td>\n",
       "      <td>青年</td>\n",
       "      <td>高消费群体</td>\n",
       "    </tr>\n",
       "    <tr>\n",
       "      <th>1</th>\n",
       "      <td>I317333</td>\n",
       "      <td>C111565</td>\n",
       "      <td>男</td>\n",
       "      <td>21</td>\n",
       "      <td>Shoes</td>\n",
       "      <td>3</td>\n",
       "      <td>1800.51</td>\n",
       "      <td>微信支付</td>\n",
       "      <td>2021-12-12</td>\n",
       "      <td>2021</td>\n",
       "      <td>12</td>\n",
       "      <td>5401.53</td>\n",
       "      <td>青年</td>\n",
       "      <td>高消费群体</td>\n",
       "    </tr>\n",
       "    <tr>\n",
       "      <th>2</th>\n",
       "      <td>I127801</td>\n",
       "      <td>C266599</td>\n",
       "      <td>男</td>\n",
       "      <td>20</td>\n",
       "      <td>Clothing</td>\n",
       "      <td>1</td>\n",
       "      <td>300.08</td>\n",
       "      <td>银行卡</td>\n",
       "      <td>2021-11-09</td>\n",
       "      <td>2021</td>\n",
       "      <td>11</td>\n",
       "      <td>300.08</td>\n",
       "      <td>青年</td>\n",
       "      <td>中等消费群体</td>\n",
       "    </tr>\n",
       "    <tr>\n",
       "      <th>3</th>\n",
       "      <td>I173702</td>\n",
       "      <td>C988172</td>\n",
       "      <td>女</td>\n",
       "      <td>66</td>\n",
       "      <td>Shoes</td>\n",
       "      <td>5</td>\n",
       "      <td>3000.85</td>\n",
       "      <td>支付宝</td>\n",
       "      <td>2021-05-16</td>\n",
       "      <td>2021</td>\n",
       "      <td>5</td>\n",
       "      <td>15004.25</td>\n",
       "      <td>老年</td>\n",
       "      <td>高消费群体</td>\n",
       "    </tr>\n",
       "    <tr>\n",
       "      <th>4</th>\n",
       "      <td>I337046</td>\n",
       "      <td>C189076</td>\n",
       "      <td>女</td>\n",
       "      <td>53</td>\n",
       "      <td>Books</td>\n",
       "      <td>4</td>\n",
       "      <td>60.60</td>\n",
       "      <td>银行卡</td>\n",
       "      <td>2021-10-24</td>\n",
       "      <td>2021</td>\n",
       "      <td>10</td>\n",
       "      <td>242.40</td>\n",
       "      <td>老年</td>\n",
       "      <td>中等消费群体</td>\n",
       "    </tr>\n",
       "  </tbody>\n",
       "</table>\n",
       "</div>"
      ],
      "text/plain": [
       "  invoice_no customer_id gender  age  category  quantity    price  \\\n",
       "0    I138884     C241288      女   28  Clothing         5  1500.40   \n",
       "1    I317333     C111565      男   21     Shoes         3  1800.51   \n",
       "2    I127801     C266599      男   20  Clothing         1   300.08   \n",
       "3    I173702     C988172      女   66     Shoes         5  3000.85   \n",
       "4    I337046     C189076      女   53     Books         4    60.60   \n",
       "\n",
       "  payment_method invoice_date  invoice_year  invoice_month   revenue  \\\n",
       "0            支付宝   2022-08-05          2022              8   7502.00   \n",
       "1           微信支付   2021-12-12          2021             12   5401.53   \n",
       "2            银行卡   2021-11-09          2021             11    300.08   \n",
       "3            支付宝   2021-05-16          2021              5  15004.25   \n",
       "4            银行卡   2021-10-24          2021             10    242.40   \n",
       "\n",
       "  age_label revenue_label  \n",
       "0        青年         高消费群体  \n",
       "1        青年         高消费群体  \n",
       "2        青年        中等消费群体  \n",
       "3        老年         高消费群体  \n",
       "4        老年        中等消费群体  "
      ]
     },
     "execution_count": 79,
     "metadata": {},
     "output_type": "execute_result"
    }
   ],
   "source": [
    "# 用户画像预处理\n",
    "# 年龄画像\n",
    "def age_label(age):\n",
    "    if age <= 17:\n",
    "        return '少年'\n",
    "    elif age <= 35:\n",
    "        return '青年'\n",
    "    elif age <= 50:\n",
    "        return '中年'\n",
    "    else:\n",
    "        return '老年'\n",
    "\n",
    "# 应用年龄标签\n",
    "data['age_label'] = data['age'].apply(age_label)\n",
    "\n",
    "# 收入画像\n",
    "quantile = data['revenue'].quantile([0.25, 0.5, 0.75]).tolist()\n",
    "\n",
    "def revenue_label_quantile(revenue):\n",
    "    if revenue <= quantile[0]:\n",
    "        return '低消费群体'\n",
    "    elif revenue <= quantile[1]:\n",
    "        return '中等消费群体'\n",
    "    elif revenue <= quantile[2]:\n",
    "        return '中高消费群体'\n",
    "    else:\n",
    "        return '高消费群体'\n",
    "\n",
    "# 应用收入标签\n",
    "data['revenue_label'] = data['revenue'].apply(revenue_label_quantile)\n",
    "\n",
    "data.head()\n",
    "    "
   ]
  },
  {
   "cell_type": "code",
   "execution_count": 80,
   "id": "47576c9f",
   "metadata": {},
   "outputs": [],
   "source": [
    "data.to_csv(r'./output.csv', index = False)"
   ]
  }
 ],
 "metadata": {
  "kernelspec": {
   "display_name": "base",
   "language": "python",
   "name": "python3"
  },
  "language_info": {
   "codemirror_mode": {
    "name": "ipython",
    "version": 3
   },
   "file_extension": ".py",
   "mimetype": "text/x-python",
   "name": "python",
   "nbconvert_exporter": "python",
   "pygments_lexer": "ipython3",
   "version": "3.13.5"
  }
 },
 "nbformat": 4,
 "nbformat_minor": 5
}
